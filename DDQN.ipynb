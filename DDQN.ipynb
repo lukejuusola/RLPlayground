{
 "cells": [
  {
   "cell_type": "code",
   "execution_count": 1,
   "id": "f5f09089",
   "metadata": {},
   "outputs": [
    {
     "data": {
      "text/plain": [
       "dict_keys(['CartPole-v0', 'CartPole-v1', 'MountainCar-v0', 'MountainCarContinuous-v0', 'Pendulum-v1', 'Acrobot-v1', 'CartPoleJax-v0', 'CartPoleJax-v1', 'PendulumJax-v0', 'LunarLander-v2', 'LunarLanderContinuous-v2', 'BipedalWalker-v3', 'BipedalWalkerHardcore-v3', 'CarRacing-v2', 'Blackjack-v1', 'FrozenLake-v1', 'FrozenLake8x8-v1', 'CliffWalking-v0', 'Taxi-v3', 'Jax-Blackjack-v0', 'Reacher-v2', 'Reacher-v4', 'Pusher-v2', 'Pusher-v4', 'InvertedPendulum-v2', 'InvertedPendulum-v4', 'InvertedDoublePendulum-v2', 'InvertedDoublePendulum-v4', 'HalfCheetah-v2', 'HalfCheetah-v3', 'HalfCheetah-v4', 'Hopper-v2', 'Hopper-v3', 'Hopper-v4', 'Swimmer-v2', 'Swimmer-v3', 'Swimmer-v4', 'Walker2d-v2', 'Walker2d-v3', 'Walker2d-v4', 'Ant-v2', 'Ant-v3', 'Ant-v4', 'Humanoid-v2', 'Humanoid-v3', 'Humanoid-v4', 'HumanoidStandup-v2', 'HumanoidStandup-v4', 'GymV26Environment-v0', 'GymV21Environment-v0', 'Adventure-v0', 'AdventureDeterministic-v0', 'AdventureNoFrameskip-v0', 'Adventure-v4', 'AdventureDeterministic-v4', 'AdventureNoFrameskip-v4', 'Adventure-ram-v0', 'Adventure-ramDeterministic-v0', 'Adventure-ramNoFrameskip-v0', 'Adventure-ram-v4', 'Adventure-ramDeterministic-v4', 'Adventure-ramNoFrameskip-v4', 'AirRaid-v0', 'AirRaidDeterministic-v0', 'AirRaidNoFrameskip-v0', 'AirRaid-v4', 'AirRaidDeterministic-v4', 'AirRaidNoFrameskip-v4', 'AirRaid-ram-v0', 'AirRaid-ramDeterministic-v0', 'AirRaid-ramNoFrameskip-v0', 'AirRaid-ram-v4', 'AirRaid-ramDeterministic-v4', 'AirRaid-ramNoFrameskip-v4', 'Alien-v0', 'AlienDeterministic-v0', 'AlienNoFrameskip-v0', 'Alien-v4', 'AlienDeterministic-v4', 'AlienNoFrameskip-v4', 'Alien-ram-v0', 'Alien-ramDeterministic-v0', 'Alien-ramNoFrameskip-v0', 'Alien-ram-v4', 'Alien-ramDeterministic-v4', 'Alien-ramNoFrameskip-v4', 'Amidar-v0', 'AmidarDeterministic-v0', 'AmidarNoFrameskip-v0', 'Amidar-v4', 'AmidarDeterministic-v4', 'AmidarNoFrameskip-v4', 'Amidar-ram-v0', 'Amidar-ramDeterministic-v0', 'Amidar-ramNoFrameskip-v0', 'Amidar-ram-v4', 'Amidar-ramDeterministic-v4', 'Amidar-ramNoFrameskip-v4', 'Assault-v0', 'AssaultDeterministic-v0', 'AssaultNoFrameskip-v0', 'Assault-v4', 'AssaultDeterministic-v4', 'AssaultNoFrameskip-v4', 'Assault-ram-v0', 'Assault-ramDeterministic-v0', 'Assault-ramNoFrameskip-v0', 'Assault-ram-v4', 'Assault-ramDeterministic-v4', 'Assault-ramNoFrameskip-v4', 'Asterix-v0', 'AsterixDeterministic-v0', 'AsterixNoFrameskip-v0', 'Asterix-v4', 'AsterixDeterministic-v4', 'AsterixNoFrameskip-v4', 'Asterix-ram-v0', 'Asterix-ramDeterministic-v0', 'Asterix-ramNoFrameskip-v0', 'Asterix-ram-v4', 'Asterix-ramDeterministic-v4', 'Asterix-ramNoFrameskip-v4', 'Asteroids-v0', 'AsteroidsDeterministic-v0', 'AsteroidsNoFrameskip-v0', 'Asteroids-v4', 'AsteroidsDeterministic-v4', 'AsteroidsNoFrameskip-v4', 'Asteroids-ram-v0', 'Asteroids-ramDeterministic-v0', 'Asteroids-ramNoFrameskip-v0', 'Asteroids-ram-v4', 'Asteroids-ramDeterministic-v4', 'Asteroids-ramNoFrameskip-v4', 'Atlantis-v0', 'AtlantisDeterministic-v0', 'AtlantisNoFrameskip-v0', 'Atlantis-v4', 'AtlantisDeterministic-v4', 'AtlantisNoFrameskip-v4', 'Atlantis-ram-v0', 'Atlantis-ramDeterministic-v0', 'Atlantis-ramNoFrameskip-v0', 'Atlantis-ram-v4', 'Atlantis-ramDeterministic-v4', 'Atlantis-ramNoFrameskip-v4', 'BankHeist-v0', 'BankHeistDeterministic-v0', 'BankHeistNoFrameskip-v0', 'BankHeist-v4', 'BankHeistDeterministic-v4', 'BankHeistNoFrameskip-v4', 'BankHeist-ram-v0', 'BankHeist-ramDeterministic-v0', 'BankHeist-ramNoFrameskip-v0', 'BankHeist-ram-v4', 'BankHeist-ramDeterministic-v4', 'BankHeist-ramNoFrameskip-v4', 'BattleZone-v0', 'BattleZoneDeterministic-v0', 'BattleZoneNoFrameskip-v0', 'BattleZone-v4', 'BattleZoneDeterministic-v4', 'BattleZoneNoFrameskip-v4', 'BattleZone-ram-v0', 'BattleZone-ramDeterministic-v0', 'BattleZone-ramNoFrameskip-v0', 'BattleZone-ram-v4', 'BattleZone-ramDeterministic-v4', 'BattleZone-ramNoFrameskip-v4', 'BeamRider-v0', 'BeamRiderDeterministic-v0', 'BeamRiderNoFrameskip-v0', 'BeamRider-v4', 'BeamRiderDeterministic-v4', 'BeamRiderNoFrameskip-v4', 'BeamRider-ram-v0', 'BeamRider-ramDeterministic-v0', 'BeamRider-ramNoFrameskip-v0', 'BeamRider-ram-v4', 'BeamRider-ramDeterministic-v4', 'BeamRider-ramNoFrameskip-v4', 'Berzerk-v0', 'BerzerkDeterministic-v0', 'BerzerkNoFrameskip-v0', 'Berzerk-v4', 'BerzerkDeterministic-v4', 'BerzerkNoFrameskip-v4', 'Berzerk-ram-v0', 'Berzerk-ramDeterministic-v0', 'Berzerk-ramNoFrameskip-v0', 'Berzerk-ram-v4', 'Berzerk-ramDeterministic-v4', 'Berzerk-ramNoFrameskip-v4', 'Bowling-v0', 'BowlingDeterministic-v0', 'BowlingNoFrameskip-v0', 'Bowling-v4', 'BowlingDeterministic-v4', 'BowlingNoFrameskip-v4', 'Bowling-ram-v0', 'Bowling-ramDeterministic-v0', 'Bowling-ramNoFrameskip-v0', 'Bowling-ram-v4', 'Bowling-ramDeterministic-v4', 'Bowling-ramNoFrameskip-v4', 'Boxing-v0', 'BoxingDeterministic-v0', 'BoxingNoFrameskip-v0', 'Boxing-v4', 'BoxingDeterministic-v4', 'BoxingNoFrameskip-v4', 'Boxing-ram-v0', 'Boxing-ramDeterministic-v0', 'Boxing-ramNoFrameskip-v0', 'Boxing-ram-v4', 'Boxing-ramDeterministic-v4', 'Boxing-ramNoFrameskip-v4', 'Breakout-v0', 'BreakoutDeterministic-v0', 'BreakoutNoFrameskip-v0', 'Breakout-v4', 'BreakoutDeterministic-v4', 'BreakoutNoFrameskip-v4', 'Breakout-ram-v0', 'Breakout-ramDeterministic-v0', 'Breakout-ramNoFrameskip-v0', 'Breakout-ram-v4', 'Breakout-ramDeterministic-v4', 'Breakout-ramNoFrameskip-v4', 'Carnival-v0', 'CarnivalDeterministic-v0', 'CarnivalNoFrameskip-v0', 'Carnival-v4', 'CarnivalDeterministic-v4', 'CarnivalNoFrameskip-v4', 'Carnival-ram-v0', 'Carnival-ramDeterministic-v0', 'Carnival-ramNoFrameskip-v0', 'Carnival-ram-v4', 'Carnival-ramDeterministic-v4', 'Carnival-ramNoFrameskip-v4', 'Centipede-v0', 'CentipedeDeterministic-v0', 'CentipedeNoFrameskip-v0', 'Centipede-v4', 'CentipedeDeterministic-v4', 'CentipedeNoFrameskip-v4', 'Centipede-ram-v0', 'Centipede-ramDeterministic-v0', 'Centipede-ramNoFrameskip-v0', 'Centipede-ram-v4', 'Centipede-ramDeterministic-v4', 'Centipede-ramNoFrameskip-v4', 'ChopperCommand-v0', 'ChopperCommandDeterministic-v0', 'ChopperCommandNoFrameskip-v0', 'ChopperCommand-v4', 'ChopperCommandDeterministic-v4', 'ChopperCommandNoFrameskip-v4', 'ChopperCommand-ram-v0', 'ChopperCommand-ramDeterministic-v0', 'ChopperCommand-ramNoFrameskip-v0', 'ChopperCommand-ram-v4', 'ChopperCommand-ramDeterministic-v4', 'ChopperCommand-ramNoFrameskip-v4', 'CrazyClimber-v0', 'CrazyClimberDeterministic-v0', 'CrazyClimberNoFrameskip-v0', 'CrazyClimber-v4', 'CrazyClimberDeterministic-v4', 'CrazyClimberNoFrameskip-v4', 'CrazyClimber-ram-v0', 'CrazyClimber-ramDeterministic-v0', 'CrazyClimber-ramNoFrameskip-v0', 'CrazyClimber-ram-v4', 'CrazyClimber-ramDeterministic-v4', 'CrazyClimber-ramNoFrameskip-v4', 'Defender-v0', 'DefenderDeterministic-v0', 'DefenderNoFrameskip-v0', 'Defender-v4', 'DefenderDeterministic-v4', 'DefenderNoFrameskip-v4', 'Defender-ram-v0', 'Defender-ramDeterministic-v0', 'Defender-ramNoFrameskip-v0', 'Defender-ram-v4', 'Defender-ramDeterministic-v4', 'Defender-ramNoFrameskip-v4', 'DemonAttack-v0', 'DemonAttackDeterministic-v0', 'DemonAttackNoFrameskip-v0', 'DemonAttack-v4', 'DemonAttackDeterministic-v4', 'DemonAttackNoFrameskip-v4', 'DemonAttack-ram-v0', 'DemonAttack-ramDeterministic-v0', 'DemonAttack-ramNoFrameskip-v0', 'DemonAttack-ram-v4', 'DemonAttack-ramDeterministic-v4', 'DemonAttack-ramNoFrameskip-v4', 'DoubleDunk-v0', 'DoubleDunkDeterministic-v0', 'DoubleDunkNoFrameskip-v0', 'DoubleDunk-v4', 'DoubleDunkDeterministic-v4', 'DoubleDunkNoFrameskip-v4', 'DoubleDunk-ram-v0', 'DoubleDunk-ramDeterministic-v0', 'DoubleDunk-ramNoFrameskip-v0', 'DoubleDunk-ram-v4', 'DoubleDunk-ramDeterministic-v4', 'DoubleDunk-ramNoFrameskip-v4', 'ElevatorAction-v0', 'ElevatorActionDeterministic-v0', 'ElevatorActionNoFrameskip-v0', 'ElevatorAction-v4', 'ElevatorActionDeterministic-v4', 'ElevatorActionNoFrameskip-v4', 'ElevatorAction-ram-v0', 'ElevatorAction-ramDeterministic-v0', 'ElevatorAction-ramNoFrameskip-v0', 'ElevatorAction-ram-v4', 'ElevatorAction-ramDeterministic-v4', 'ElevatorAction-ramNoFrameskip-v4', 'Enduro-v0', 'EnduroDeterministic-v0', 'EnduroNoFrameskip-v0', 'Enduro-v4', 'EnduroDeterministic-v4', 'EnduroNoFrameskip-v4', 'Enduro-ram-v0', 'Enduro-ramDeterministic-v0', 'Enduro-ramNoFrameskip-v0', 'Enduro-ram-v4', 'Enduro-ramDeterministic-v4', 'Enduro-ramNoFrameskip-v4', 'FishingDerby-v0', 'FishingDerbyDeterministic-v0', 'FishingDerbyNoFrameskip-v0', 'FishingDerby-v4', 'FishingDerbyDeterministic-v4', 'FishingDerbyNoFrameskip-v4', 'FishingDerby-ram-v0', 'FishingDerby-ramDeterministic-v0', 'FishingDerby-ramNoFrameskip-v0', 'FishingDerby-ram-v4', 'FishingDerby-ramDeterministic-v4', 'FishingDerby-ramNoFrameskip-v4', 'Freeway-v0', 'FreewayDeterministic-v0', 'FreewayNoFrameskip-v0', 'Freeway-v4', 'FreewayDeterministic-v4', 'FreewayNoFrameskip-v4', 'Freeway-ram-v0', 'Freeway-ramDeterministic-v0', 'Freeway-ramNoFrameskip-v0', 'Freeway-ram-v4', 'Freeway-ramDeterministic-v4', 'Freeway-ramNoFrameskip-v4', 'Frostbite-v0', 'FrostbiteDeterministic-v0', 'FrostbiteNoFrameskip-v0', 'Frostbite-v4', 'FrostbiteDeterministic-v4', 'FrostbiteNoFrameskip-v4', 'Frostbite-ram-v0', 'Frostbite-ramDeterministic-v0', 'Frostbite-ramNoFrameskip-v0', 'Frostbite-ram-v4', 'Frostbite-ramDeterministic-v4', 'Frostbite-ramNoFrameskip-v4', 'Gopher-v0', 'GopherDeterministic-v0', 'GopherNoFrameskip-v0', 'Gopher-v4', 'GopherDeterministic-v4', 'GopherNoFrameskip-v4', 'Gopher-ram-v0', 'Gopher-ramDeterministic-v0', 'Gopher-ramNoFrameskip-v0', 'Gopher-ram-v4', 'Gopher-ramDeterministic-v4', 'Gopher-ramNoFrameskip-v4', 'Gravitar-v0', 'GravitarDeterministic-v0', 'GravitarNoFrameskip-v0', 'Gravitar-v4', 'GravitarDeterministic-v4', 'GravitarNoFrameskip-v4', 'Gravitar-ram-v0', 'Gravitar-ramDeterministic-v0', 'Gravitar-ramNoFrameskip-v0', 'Gravitar-ram-v4', 'Gravitar-ramDeterministic-v4', 'Gravitar-ramNoFrameskip-v4', 'Hero-v0', 'HeroDeterministic-v0', 'HeroNoFrameskip-v0', 'Hero-v4', 'HeroDeterministic-v4', 'HeroNoFrameskip-v4', 'Hero-ram-v0', 'Hero-ramDeterministic-v0', 'Hero-ramNoFrameskip-v0', 'Hero-ram-v4', 'Hero-ramDeterministic-v4', 'Hero-ramNoFrameskip-v4', 'IceHockey-v0', 'IceHockeyDeterministic-v0', 'IceHockeyNoFrameskip-v0', 'IceHockey-v4', 'IceHockeyDeterministic-v4', 'IceHockeyNoFrameskip-v4', 'IceHockey-ram-v0', 'IceHockey-ramDeterministic-v0', 'IceHockey-ramNoFrameskip-v0', 'IceHockey-ram-v4', 'IceHockey-ramDeterministic-v4', 'IceHockey-ramNoFrameskip-v4', 'Jamesbond-v0', 'JamesbondDeterministic-v0', 'JamesbondNoFrameskip-v0', 'Jamesbond-v4', 'JamesbondDeterministic-v4', 'JamesbondNoFrameskip-v4', 'Jamesbond-ram-v0', 'Jamesbond-ramDeterministic-v0', 'Jamesbond-ramNoFrameskip-v0', 'Jamesbond-ram-v4', 'Jamesbond-ramDeterministic-v4', 'Jamesbond-ramNoFrameskip-v4', 'JourneyEscape-v0', 'JourneyEscapeDeterministic-v0', 'JourneyEscapeNoFrameskip-v0', 'JourneyEscape-v4', 'JourneyEscapeDeterministic-v4', 'JourneyEscapeNoFrameskip-v4', 'JourneyEscape-ram-v0', 'JourneyEscape-ramDeterministic-v0', 'JourneyEscape-ramNoFrameskip-v0', 'JourneyEscape-ram-v4', 'JourneyEscape-ramDeterministic-v4', 'JourneyEscape-ramNoFrameskip-v4', 'Kangaroo-v0', 'KangarooDeterministic-v0', 'KangarooNoFrameskip-v0', 'Kangaroo-v4', 'KangarooDeterministic-v4', 'KangarooNoFrameskip-v4', 'Kangaroo-ram-v0', 'Kangaroo-ramDeterministic-v0', 'Kangaroo-ramNoFrameskip-v0', 'Kangaroo-ram-v4', 'Kangaroo-ramDeterministic-v4', 'Kangaroo-ramNoFrameskip-v4', 'Krull-v0', 'KrullDeterministic-v0', 'KrullNoFrameskip-v0', 'Krull-v4', 'KrullDeterministic-v4', 'KrullNoFrameskip-v4', 'Krull-ram-v0', 'Krull-ramDeterministic-v0', 'Krull-ramNoFrameskip-v0', 'Krull-ram-v4', 'Krull-ramDeterministic-v4', 'Krull-ramNoFrameskip-v4', 'KungFuMaster-v0', 'KungFuMasterDeterministic-v0', 'KungFuMasterNoFrameskip-v0', 'KungFuMaster-v4', 'KungFuMasterDeterministic-v4', 'KungFuMasterNoFrameskip-v4', 'KungFuMaster-ram-v0', 'KungFuMaster-ramDeterministic-v0', 'KungFuMaster-ramNoFrameskip-v0', 'KungFuMaster-ram-v4', 'KungFuMaster-ramDeterministic-v4', 'KungFuMaster-ramNoFrameskip-v4', 'MontezumaRevenge-v0', 'MontezumaRevengeDeterministic-v0', 'MontezumaRevengeNoFrameskip-v0', 'MontezumaRevenge-v4', 'MontezumaRevengeDeterministic-v4', 'MontezumaRevengeNoFrameskip-v4', 'MontezumaRevenge-ram-v0', 'MontezumaRevenge-ramDeterministic-v0', 'MontezumaRevenge-ramNoFrameskip-v0', 'MontezumaRevenge-ram-v4', 'MontezumaRevenge-ramDeterministic-v4', 'MontezumaRevenge-ramNoFrameskip-v4', 'MsPacman-v0', 'MsPacmanDeterministic-v0', 'MsPacmanNoFrameskip-v0', 'MsPacman-v4', 'MsPacmanDeterministic-v4', 'MsPacmanNoFrameskip-v4', 'MsPacman-ram-v0', 'MsPacman-ramDeterministic-v0', 'MsPacman-ramNoFrameskip-v0', 'MsPacman-ram-v4', 'MsPacman-ramDeterministic-v4', 'MsPacman-ramNoFrameskip-v4', 'NameThisGame-v0', 'NameThisGameDeterministic-v0', 'NameThisGameNoFrameskip-v0', 'NameThisGame-v4', 'NameThisGameDeterministic-v4', 'NameThisGameNoFrameskip-v4', 'NameThisGame-ram-v0', 'NameThisGame-ramDeterministic-v0', 'NameThisGame-ramNoFrameskip-v0', 'NameThisGame-ram-v4', 'NameThisGame-ramDeterministic-v4', 'NameThisGame-ramNoFrameskip-v4', 'Phoenix-v0', 'PhoenixDeterministic-v0', 'PhoenixNoFrameskip-v0', 'Phoenix-v4', 'PhoenixDeterministic-v4', 'PhoenixNoFrameskip-v4', 'Phoenix-ram-v0', 'Phoenix-ramDeterministic-v0', 'Phoenix-ramNoFrameskip-v0', 'Phoenix-ram-v4', 'Phoenix-ramDeterministic-v4', 'Phoenix-ramNoFrameskip-v4', 'Pitfall-v0', 'PitfallDeterministic-v0', 'PitfallNoFrameskip-v0', 'Pitfall-v4', 'PitfallDeterministic-v4', 'PitfallNoFrameskip-v4', 'Pitfall-ram-v0', 'Pitfall-ramDeterministic-v0', 'Pitfall-ramNoFrameskip-v0', 'Pitfall-ram-v4', 'Pitfall-ramDeterministic-v4', 'Pitfall-ramNoFrameskip-v4', 'Pong-v0', 'PongDeterministic-v0', 'PongNoFrameskip-v0', 'Pong-v4', 'PongDeterministic-v4', 'PongNoFrameskip-v4', 'Pong-ram-v0', 'Pong-ramDeterministic-v0', 'Pong-ramNoFrameskip-v0', 'Pong-ram-v4', 'Pong-ramDeterministic-v4', 'Pong-ramNoFrameskip-v4', 'Pooyan-v0', 'PooyanDeterministic-v0', 'PooyanNoFrameskip-v0', 'Pooyan-v4', 'PooyanDeterministic-v4', 'PooyanNoFrameskip-v4', 'Pooyan-ram-v0', 'Pooyan-ramDeterministic-v0', 'Pooyan-ramNoFrameskip-v0', 'Pooyan-ram-v4', 'Pooyan-ramDeterministic-v4', 'Pooyan-ramNoFrameskip-v4', 'PrivateEye-v0', 'PrivateEyeDeterministic-v0', 'PrivateEyeNoFrameskip-v0', 'PrivateEye-v4', 'PrivateEyeDeterministic-v4', 'PrivateEyeNoFrameskip-v4', 'PrivateEye-ram-v0', 'PrivateEye-ramDeterministic-v0', 'PrivateEye-ramNoFrameskip-v0', 'PrivateEye-ram-v4', 'PrivateEye-ramDeterministic-v4', 'PrivateEye-ramNoFrameskip-v4', 'Qbert-v0', 'QbertDeterministic-v0', 'QbertNoFrameskip-v0', 'Qbert-v4', 'QbertDeterministic-v4', 'QbertNoFrameskip-v4', 'Qbert-ram-v0', 'Qbert-ramDeterministic-v0', 'Qbert-ramNoFrameskip-v0', 'Qbert-ram-v4', 'Qbert-ramDeterministic-v4', 'Qbert-ramNoFrameskip-v4', 'Riverraid-v0', 'RiverraidDeterministic-v0', 'RiverraidNoFrameskip-v0', 'Riverraid-v4', 'RiverraidDeterministic-v4', 'RiverraidNoFrameskip-v4', 'Riverraid-ram-v0', 'Riverraid-ramDeterministic-v0', 'Riverraid-ramNoFrameskip-v0', 'Riverraid-ram-v4', 'Riverraid-ramDeterministic-v4', 'Riverraid-ramNoFrameskip-v4', 'RoadRunner-v0', 'RoadRunnerDeterministic-v0', 'RoadRunnerNoFrameskip-v0', 'RoadRunner-v4', 'RoadRunnerDeterministic-v4', 'RoadRunnerNoFrameskip-v4', 'RoadRunner-ram-v0', 'RoadRunner-ramDeterministic-v0', 'RoadRunner-ramNoFrameskip-v0', 'RoadRunner-ram-v4', 'RoadRunner-ramDeterministic-v4', 'RoadRunner-ramNoFrameskip-v4', 'Robotank-v0', 'RobotankDeterministic-v0', 'RobotankNoFrameskip-v0', 'Robotank-v4', 'RobotankDeterministic-v4', 'RobotankNoFrameskip-v4', 'Robotank-ram-v0', 'Robotank-ramDeterministic-v0', 'Robotank-ramNoFrameskip-v0', 'Robotank-ram-v4', 'Robotank-ramDeterministic-v4', 'Robotank-ramNoFrameskip-v4', 'Seaquest-v0', 'SeaquestDeterministic-v0', 'SeaquestNoFrameskip-v0', 'Seaquest-v4', 'SeaquestDeterministic-v4', 'SeaquestNoFrameskip-v4', 'Seaquest-ram-v0', 'Seaquest-ramDeterministic-v0', 'Seaquest-ramNoFrameskip-v0', 'Seaquest-ram-v4', 'Seaquest-ramDeterministic-v4', 'Seaquest-ramNoFrameskip-v4', 'Skiing-v0', 'SkiingDeterministic-v0', 'SkiingNoFrameskip-v0', 'Skiing-v4', 'SkiingDeterministic-v4', 'SkiingNoFrameskip-v4', 'Skiing-ram-v0', 'Skiing-ramDeterministic-v0', 'Skiing-ramNoFrameskip-v0', 'Skiing-ram-v4', 'Skiing-ramDeterministic-v4', 'Skiing-ramNoFrameskip-v4', 'Solaris-v0', 'SolarisDeterministic-v0', 'SolarisNoFrameskip-v0', 'Solaris-v4', 'SolarisDeterministic-v4', 'SolarisNoFrameskip-v4', 'Solaris-ram-v0', 'Solaris-ramDeterministic-v0', 'Solaris-ramNoFrameskip-v0', 'Solaris-ram-v4', 'Solaris-ramDeterministic-v4', 'Solaris-ramNoFrameskip-v4', 'SpaceInvaders-v0', 'SpaceInvadersDeterministic-v0', 'SpaceInvadersNoFrameskip-v0', 'SpaceInvaders-v4', 'SpaceInvadersDeterministic-v4', 'SpaceInvadersNoFrameskip-v4', 'SpaceInvaders-ram-v0', 'SpaceInvaders-ramDeterministic-v0', 'SpaceInvaders-ramNoFrameskip-v0', 'SpaceInvaders-ram-v4', 'SpaceInvaders-ramDeterministic-v4', 'SpaceInvaders-ramNoFrameskip-v4', 'StarGunner-v0', 'StarGunnerDeterministic-v0', 'StarGunnerNoFrameskip-v0', 'StarGunner-v4', 'StarGunnerDeterministic-v4', 'StarGunnerNoFrameskip-v4', 'StarGunner-ram-v0', 'StarGunner-ramDeterministic-v0', 'StarGunner-ramNoFrameskip-v0', 'StarGunner-ram-v4', 'StarGunner-ramDeterministic-v4', 'StarGunner-ramNoFrameskip-v4', 'Tennis-v0', 'TennisDeterministic-v0', 'TennisNoFrameskip-v0', 'Tennis-v4', 'TennisDeterministic-v4', 'TennisNoFrameskip-v4', 'Tennis-ram-v0', 'Tennis-ramDeterministic-v0', 'Tennis-ramNoFrameskip-v0', 'Tennis-ram-v4', 'Tennis-ramDeterministic-v4', 'Tennis-ramNoFrameskip-v4', 'TimePilot-v0', 'TimePilotDeterministic-v0', 'TimePilotNoFrameskip-v0', 'TimePilot-v4', 'TimePilotDeterministic-v4', 'TimePilotNoFrameskip-v4', 'TimePilot-ram-v0', 'TimePilot-ramDeterministic-v0', 'TimePilot-ramNoFrameskip-v0', 'TimePilot-ram-v4', 'TimePilot-ramDeterministic-v4', 'TimePilot-ramNoFrameskip-v4', 'Tutankham-v0', 'TutankhamDeterministic-v0', 'TutankhamNoFrameskip-v0', 'Tutankham-v4', 'TutankhamDeterministic-v4', 'TutankhamNoFrameskip-v4', 'Tutankham-ram-v0', 'Tutankham-ramDeterministic-v0', 'Tutankham-ramNoFrameskip-v0', 'Tutankham-ram-v4', 'Tutankham-ramDeterministic-v4', 'Tutankham-ramNoFrameskip-v4', 'UpNDown-v0', 'UpNDownDeterministic-v0', 'UpNDownNoFrameskip-v0', 'UpNDown-v4', 'UpNDownDeterministic-v4', 'UpNDownNoFrameskip-v4', 'UpNDown-ram-v0', 'UpNDown-ramDeterministic-v0', 'UpNDown-ramNoFrameskip-v0', 'UpNDown-ram-v4', 'UpNDown-ramDeterministic-v4', 'UpNDown-ramNoFrameskip-v4', 'Venture-v0', 'VentureDeterministic-v0', 'VentureNoFrameskip-v0', 'Venture-v4', 'VentureDeterministic-v4', 'VentureNoFrameskip-v4', 'Venture-ram-v0', 'Venture-ramDeterministic-v0', 'Venture-ramNoFrameskip-v0', 'Venture-ram-v4', 'Venture-ramDeterministic-v4', 'Venture-ramNoFrameskip-v4', 'VideoPinball-v0', 'VideoPinballDeterministic-v0', 'VideoPinballNoFrameskip-v0', 'VideoPinball-v4', 'VideoPinballDeterministic-v4', 'VideoPinballNoFrameskip-v4', 'VideoPinball-ram-v0', 'VideoPinball-ramDeterministic-v0', 'VideoPinball-ramNoFrameskip-v0', 'VideoPinball-ram-v4', 'VideoPinball-ramDeterministic-v4', 'VideoPinball-ramNoFrameskip-v4', 'WizardOfWor-v0', 'WizardOfWorDeterministic-v0', 'WizardOfWorNoFrameskip-v0', 'WizardOfWor-v4', 'WizardOfWorDeterministic-v4', 'WizardOfWorNoFrameskip-v4', 'WizardOfWor-ram-v0', 'WizardOfWor-ramDeterministic-v0', 'WizardOfWor-ramNoFrameskip-v0', 'WizardOfWor-ram-v4', 'WizardOfWor-ramDeterministic-v4', 'WizardOfWor-ramNoFrameskip-v4', 'YarsRevenge-v0', 'YarsRevengeDeterministic-v0', 'YarsRevengeNoFrameskip-v0', 'YarsRevenge-v4', 'YarsRevengeDeterministic-v4', 'YarsRevengeNoFrameskip-v4', 'YarsRevenge-ram-v0', 'YarsRevenge-ramDeterministic-v0', 'YarsRevenge-ramNoFrameskip-v0', 'YarsRevenge-ram-v4', 'YarsRevenge-ramDeterministic-v4', 'YarsRevenge-ramNoFrameskip-v4', 'Zaxxon-v0', 'ZaxxonDeterministic-v0', 'ZaxxonNoFrameskip-v0', 'Zaxxon-v4', 'ZaxxonDeterministic-v4', 'ZaxxonNoFrameskip-v4', 'Zaxxon-ram-v0', 'Zaxxon-ramDeterministic-v0', 'Zaxxon-ramNoFrameskip-v0', 'Zaxxon-ram-v4', 'Zaxxon-ramDeterministic-v4', 'Zaxxon-ramNoFrameskip-v4', 'ALE/Adventure-v5', 'ALE/Adventure-ram-v5', 'ALE/AirRaid-v5', 'ALE/AirRaid-ram-v5', 'ALE/Alien-v5', 'ALE/Alien-ram-v5', 'ALE/Amidar-v5', 'ALE/Amidar-ram-v5', 'ALE/Assault-v5', 'ALE/Assault-ram-v5', 'ALE/Asterix-v5', 'ALE/Asterix-ram-v5', 'ALE/Asteroids-v5', 'ALE/Asteroids-ram-v5', 'ALE/Atlantis-v5', 'ALE/Atlantis-ram-v5', 'ALE/Atlantis2-v5', 'ALE/Atlantis2-ram-v5', 'ALE/Backgammon-v5', 'ALE/Backgammon-ram-v5', 'ALE/BankHeist-v5', 'ALE/BankHeist-ram-v5', 'ALE/BasicMath-v5', 'ALE/BasicMath-ram-v5', 'ALE/BattleZone-v5', 'ALE/BattleZone-ram-v5', 'ALE/BeamRider-v5', 'ALE/BeamRider-ram-v5', 'ALE/Berzerk-v5', 'ALE/Berzerk-ram-v5', 'ALE/Blackjack-v5', 'ALE/Blackjack-ram-v5', 'ALE/Bowling-v5', 'ALE/Bowling-ram-v5', 'ALE/Boxing-v5', 'ALE/Boxing-ram-v5', 'ALE/Breakout-v5', 'ALE/Breakout-ram-v5', 'ALE/Carnival-v5', 'ALE/Carnival-ram-v5', 'ALE/Casino-v5', 'ALE/Casino-ram-v5', 'ALE/Centipede-v5', 'ALE/Centipede-ram-v5', 'ALE/ChopperCommand-v5', 'ALE/ChopperCommand-ram-v5', 'ALE/CrazyClimber-v5', 'ALE/CrazyClimber-ram-v5', 'ALE/Crossbow-v5', 'ALE/Crossbow-ram-v5', 'ALE/Darkchambers-v5', 'ALE/Darkchambers-ram-v5', 'ALE/Defender-v5', 'ALE/Defender-ram-v5', 'ALE/DemonAttack-v5', 'ALE/DemonAttack-ram-v5', 'ALE/DonkeyKong-v5', 'ALE/DonkeyKong-ram-v5', 'ALE/DoubleDunk-v5', 'ALE/DoubleDunk-ram-v5', 'ALE/Earthworld-v5', 'ALE/Earthworld-ram-v5', 'ALE/ElevatorAction-v5', 'ALE/ElevatorAction-ram-v5', 'ALE/Enduro-v5', 'ALE/Enduro-ram-v5', 'ALE/Entombed-v5', 'ALE/Entombed-ram-v5', 'ALE/Et-v5', 'ALE/Et-ram-v5', 'ALE/FishingDerby-v5', 'ALE/FishingDerby-ram-v5', 'ALE/FlagCapture-v5', 'ALE/FlagCapture-ram-v5', 'ALE/Freeway-v5', 'ALE/Freeway-ram-v5', 'ALE/Frogger-v5', 'ALE/Frogger-ram-v5', 'ALE/Frostbite-v5', 'ALE/Frostbite-ram-v5', 'ALE/Galaxian-v5', 'ALE/Galaxian-ram-v5', 'ALE/Gopher-v5', 'ALE/Gopher-ram-v5', 'ALE/Gravitar-v5', 'ALE/Gravitar-ram-v5', 'ALE/Hangman-v5', 'ALE/Hangman-ram-v5', 'ALE/HauntedHouse-v5', 'ALE/HauntedHouse-ram-v5', 'ALE/Hero-v5', 'ALE/Hero-ram-v5', 'ALE/HumanCannonball-v5', 'ALE/HumanCannonball-ram-v5', 'ALE/IceHockey-v5', 'ALE/IceHockey-ram-v5', 'ALE/Jamesbond-v5', 'ALE/Jamesbond-ram-v5', 'ALE/JourneyEscape-v5', 'ALE/JourneyEscape-ram-v5', 'ALE/Kaboom-v5', 'ALE/Kaboom-ram-v5', 'ALE/Kangaroo-v5', 'ALE/Kangaroo-ram-v5', 'ALE/KeystoneKapers-v5', 'ALE/KeystoneKapers-ram-v5', 'ALE/KingKong-v5', 'ALE/KingKong-ram-v5', 'ALE/Klax-v5', 'ALE/Klax-ram-v5', 'ALE/Koolaid-v5', 'ALE/Koolaid-ram-v5', 'ALE/Krull-v5', 'ALE/Krull-ram-v5', 'ALE/KungFuMaster-v5', 'ALE/KungFuMaster-ram-v5', 'ALE/LaserGates-v5', 'ALE/LaserGates-ram-v5', 'ALE/LostLuggage-v5', 'ALE/LostLuggage-ram-v5', 'ALE/MarioBros-v5', 'ALE/MarioBros-ram-v5', 'ALE/MiniatureGolf-v5', 'ALE/MiniatureGolf-ram-v5', 'ALE/MontezumaRevenge-v5', 'ALE/MontezumaRevenge-ram-v5', 'ALE/MrDo-v5', 'ALE/MrDo-ram-v5', 'ALE/MsPacman-v5', 'ALE/MsPacman-ram-v5', 'ALE/NameThisGame-v5', 'ALE/NameThisGame-ram-v5', 'ALE/Othello-v5', 'ALE/Othello-ram-v5', 'ALE/Pacman-v5', 'ALE/Pacman-ram-v5', 'ALE/Phoenix-v5', 'ALE/Phoenix-ram-v5', 'ALE/Pitfall-v5', 'ALE/Pitfall-ram-v5', 'ALE/Pitfall2-v5', 'ALE/Pitfall2-ram-v5', 'ALE/Pong-v5', 'ALE/Pong-ram-v5', 'ALE/Pooyan-v5', 'ALE/Pooyan-ram-v5', 'ALE/PrivateEye-v5', 'ALE/PrivateEye-ram-v5', 'ALE/Qbert-v5', 'ALE/Qbert-ram-v5', 'ALE/Riverraid-v5', 'ALE/Riverraid-ram-v5', 'ALE/RoadRunner-v5', 'ALE/RoadRunner-ram-v5', 'ALE/Robotank-v5', 'ALE/Robotank-ram-v5', 'ALE/Seaquest-v5', 'ALE/Seaquest-ram-v5', 'ALE/SirLancelot-v5', 'ALE/SirLancelot-ram-v5', 'ALE/Skiing-v5', 'ALE/Skiing-ram-v5', 'ALE/Solaris-v5', 'ALE/Solaris-ram-v5', 'ALE/SpaceInvaders-v5', 'ALE/SpaceInvaders-ram-v5', 'ALE/SpaceWar-v5', 'ALE/SpaceWar-ram-v5', 'ALE/StarGunner-v5', 'ALE/StarGunner-ram-v5', 'ALE/Superman-v5', 'ALE/Superman-ram-v5', 'ALE/Surround-v5', 'ALE/Surround-ram-v5', 'ALE/Tennis-v5', 'ALE/Tennis-ram-v5', 'ALE/Tetris-v5', 'ALE/Tetris-ram-v5', 'ALE/TicTacToe3D-v5', 'ALE/TicTacToe3D-ram-v5', 'ALE/TimePilot-v5', 'ALE/TimePilot-ram-v5', 'ALE/Trondead-v5', 'ALE/Trondead-ram-v5', 'ALE/Turmoil-v5', 'ALE/Turmoil-ram-v5', 'ALE/Tutankham-v5', 'ALE/Tutankham-ram-v5', 'ALE/UpNDown-v5', 'ALE/UpNDown-ram-v5', 'ALE/Venture-v5', 'ALE/Venture-ram-v5', 'ALE/VideoCheckers-v5', 'ALE/VideoCheckers-ram-v5', 'ALE/VideoChess-v5', 'ALE/VideoChess-ram-v5', 'ALE/VideoCube-v5', 'ALE/VideoCube-ram-v5', 'ALE/VideoPinball-v5', 'ALE/VideoPinball-ram-v5', 'ALE/WizardOfWor-v5', 'ALE/WizardOfWor-ram-v5', 'ALE/WordZapper-v5', 'ALE/WordZapper-ram-v5', 'ALE/YarsRevenge-v5', 'ALE/YarsRevenge-ram-v5', 'ALE/Zaxxon-v5', 'ALE/Zaxxon-ram-v5'])"
      ]
     },
     "execution_count": 1,
     "metadata": {},
     "output_type": "execute_result"
    }
   ],
   "source": [
    "import sys\n",
    "import os\n",
    "import numpy as np\n",
    "from pathlib import Path\n",
    "import datetime \n",
    "import matplotlib.pyplot as plt\n",
    "\n",
    "import torch\n",
    "from torch import nn\n",
    "from torchvision import transforms as T\n",
    "from PIL import Image\n",
    "\n",
    "from models.RLModelWrapper import TDWrapper\n",
    "from models.DoubleQ import DoubleQCNN\n",
    "from loggers import MetricLogger\n",
    "\n",
    "# Gym is an OpenAI toolkit for RL\n",
    "import gymnasium as gym\n",
    "from gymnasium.spaces import Box\n",
    "from gymnasium.wrappers import FrameStack, GrayScaleObservation\n",
    "\n",
    "# NES Emulator for OpenAI Gym\n",
    "# from nes_py.wrappers import JoypadSpace\n",
    "\n",
    "# Super Mario environment for OpenAI Gym\n",
    "# import gym_super_mario_bros\n",
    "\n",
    "gym.envs.registration.registry.keys()"
   ]
  },
  {
   "cell_type": "code",
   "execution_count": 2,
   "id": "b6fd8a1c",
   "metadata": {},
   "outputs": [],
   "source": [
    "%matplotlib inline"
   ]
  },
  {
   "cell_type": "code",
   "execution_count": 3,
   "id": "0df5c18e",
   "metadata": {},
   "outputs": [],
   "source": [
    "# class SkipFrame(gym.Wrapper):\n",
    "#     def __init__(self, env, skip):\n",
    "#         \"\"\"Return only every `skip`-th frame\"\"\"\n",
    "#         super().__init__(env)\n",
    "#         self._skip = skip\n",
    "\n",
    "#     def step(self, action):\n",
    "#         \"\"\"Repeat action, and sum reward\"\"\"\n",
    "#         total_reward = 0.0\n",
    "#         for i in range(self._skip):\n",
    "#             # Accumulate reward and repeat the same action\n",
    "#             obs, reward, done, trunc, info = self.env.step(action)\n",
    "#             total_reward += reward\n",
    "#             if done:\n",
    "#                 break\n",
    "#         return obs, total_reward, done, trunc, info\n",
    "\n",
    "\n",
    "# class GrayScaleObservation(gym.ObservationWrapper):\n",
    "#     def __init__(self, env):\n",
    "#         super().__init__(env)\n",
    "#         obs_shape = self.observation_space.shape[:2]\n",
    "#         self.observation_space = Box(low=0, high=255, shape=obs_shape, dtype=np.uint8)\n",
    "\n",
    "#     def permute_orientation(self, observation):\n",
    "#         # permute [H, W, C] array to [C, H, W] tensor\n",
    "#         observation = np.transpose(observation, (2, 0, 1))\n",
    "#         observation = torch.tensor(observation.copy(), dtype=torch.float)\n",
    "#         return observation\n",
    "\n",
    "#     def observation(self, observation):\n",
    "#         observation = self.permute_orientation(observation)\n",
    "#         transform = T.Grayscale()\n",
    "#         observation = transform(observation)\n",
    "#         return observation\n",
    "\n",
    "\n",
    "class ResizeObservation(gym.ObservationWrapper):\n",
    "    def __init__(self, env, shape):\n",
    "        super().__init__(env)\n",
    "        if isinstance(shape, int):\n",
    "            self.shape = (shape, shape)\n",
    "        else:\n",
    "            self.shape = tuple(shape)\n",
    "\n",
    "        obs_shape = self.shape + self.observation_space.shape[2:]\n",
    "        self.observation_space = Box(low=0, high=255, shape=obs_shape, dtype=np.uint8)\n",
    "\n",
    "    def observation(self, observation):\n",
    "        transforms = T.Compose(\n",
    "            [T.ToTensor(), T.Resize(self.shape, antialias=True), T.Normalize(0, 255)]\n",
    "        )\n",
    "        observation = transforms(observation).squeeze(0)\n",
    "        return observation"
   ]
  },
  {
   "cell_type": "code",
   "execution_count": 4,
   "id": "a3f07c03",
   "metadata": {},
   "outputs": [
    {
     "name": "stderr",
     "output_type": "stream",
     "text": [
      "A.L.E: Arcade Learning Environment (version 0.8.1+53f58b7)\n",
      "[Powered by Stella]\n"
     ]
    },
    {
     "name": "stdout",
     "output_type": "stream",
     "text": [
      "(210, 160, 3),\n",
      " 0.0,\n",
      " False,\n",
      " {'lives': 0, 'episode_frame_number': 4, 'frame_number': 4}\n",
      "============================\n",
      "LukeJuusola change made in gymnasium.wrappers.gray_scale_observation.py:\n"
     ]
    },
    {
     "data": {
      "image/png": "[encoded data removed]",
      "text/plain": [
       "<Figure size 800x800 with 4 Axes>"
      ]
     },
     "metadata": {},
     "output_type": "display_data"
    }
   ],
   "source": [
    "# env = gym_super_mario_bros.make(\"SuperMarioBros-1-1-v3\", render_mode='rgb', apply_api_compatibility=True)\n",
    "env = gym.make(\"ALE/Pong-v5\", render_mode='rgb_array', apply_api_compatibility=False)\n",
    "# Change action-space. \n",
    "# env = JoypadSpace(env, [[\"right\"], [\"right\", \"A\"]])\n",
    "\n",
    "obs, _ = env.reset()\n",
    "next_state, reward, done, trunc, info = env.step(action=0)\n",
    "print(f\"{next_state.shape},\\n {reward},\\n {done},\\n {info}\")\n",
    "print(\"============================\")\n",
    "\n",
    "# Apply Wrappers to environment\n",
    "skip_frames = 4\n",
    "# env = SkipFrame(env, skip=skip_frames)\n",
    "env = gym.make(\"ALE/Pong-v5\", render_mode='rgb_array', apply_api_compatibility=False)\n",
    "env = GrayScaleObservation(env)\n",
    "env = ResizeObservation(env, shape=84)\n",
    "env = FrameStack(env, num_stack=skip_frames)\n",
    "env.reset()\n",
    "\n",
    "for _ in range(10):\n",
    "    next_state, reward, done, trunc, info = env.step(action=0)\n",
    "\n",
    "figure = plt.figure(figsize=(8, 8))\n",
    "cols, rows = 2, 2\n",
    "for i in range(1, cols * rows + 1):\n",
    "    figure.add_subplot(rows, cols, i)\n",
    "    plt.axis(\"off\")\n",
    "    \n",
    "    # RGB channels\n",
    "    plt.imshow(next_state[i - 1].squeeze(), cmap = \"gray\")\n",
    "    \n",
    "plt.show()"
   ]
  },
  {
   "cell_type": "code",
   "execution_count": 5,
   "id": "89dd854b",
   "metadata": {},
   "outputs": [],
   "source": [
    "# Model Definition \n",
    "\n",
    "info = dict(\n",
    "    state_dim = (4, 84, 84),\n",
    "    action_dim = env.action_space.n,\n",
    "    save_dir = Path(\"checkpoints\") / datetime.datetime.now().strftime(\"%Y-%m-%dT%H-%M-%S\"),\n",
    "    batch_size = 128,\n",
    "#     burnin = 1000, \n",
    "#     sync_every = 100,\n",
    "#     learn_every = 1\n",
    ")\n",
    "\n",
    "net = DoubleQCNN(info[\"state_dim\"], info[\"action_dim\"])\n",
    "model = TDWrapper(net, info)\n",
    "\n",
    "logger = MetricLogger(info[\"save_dir\"])"
   ]
  },
  {
   "cell_type": "code",
   "execution_count": 6,
   "id": "20b23040",
   "metadata": {},
   "outputs": [
    {
     "name": "stdout",
     "output_type": "stream",
     "text": [
      "Episode 0 - Step 993 - Epsilon 0.9997517807804224 - Mean Reward -20.0 - Mean Length 993.0 - Mean Loss 0.0 - Mean Q Value 0.0 - Time Delta 1.261 - Time 2023-05-02T22:54:51\n",
      "Episode 20 - Step 19146 - Epsilon 0.9952249364399338 - Mean Reward -20.476 - Mean Length 911.714 - Mean Loss 0.006 - Mean Q Value -0.01 - Time Delta 32.816 - Time 2023-05-02T22:55:24\n",
      "Episode 40 - Step 36838 - Epsilon 0.990832776418598 - Mean Reward -20.561 - Mean Length 898.488 - Mean Loss 0.008 - Mean Q Value -0.032 - Time Delta 49.362 - Time 2023-05-02T22:56:13\n",
      "Episode 60 - Step 55252 - Epsilon 0.9862819600412824 - Mean Reward -20.508 - Mean Length 905.77 - Mean Loss 0.009 - Mean Q Value -0.046 - Time Delta 51.325 - Time 2023-05-02T22:57:05\n",
      "Episode 80 - Step 74145 - Epsilon 0.9816344874195412 - Mean Reward -20.42 - Mean Length 915.37 - Mean Loss 0.01 - Mean Q Value -0.059 - Time Delta 53.075 - Time 2023-05-02T22:57:58\n",
      "Episode 100 - Step 92179 - Epsilon 0.9772187494375055 - Mean Reward -20.43 - Mean Length 911.86 - Mean Loss 0.01 - Mean Q Value -0.071 - Time Delta 55.233 - Time 2023-05-02T22:58:53\n",
      "Episode 120 - Step 110989 - Epsilon 0.9726341656456421 - Mean Reward -20.36 - Mean Length 918.43 - Mean Loss 0.012 - Mean Q Value -0.096 - Time Delta 56.638 - Time 2023-05-02T22:59:50\n",
      "Episode 140 - Step 129725 - Epsilon 0.9680889997335621 - Mean Reward -20.33 - Mean Length 928.87 - Mean Loss 0.011 - Mean Q Value -0.115 - Time Delta 55.92 - Time 2023-05-02T23:00:45\n",
      "Episode 160 - Step 147833 - Epsilon 0.9637163652104473 - Mean Reward -20.3 - Mean Length 925.81 - Mean Loss 0.011 - Mean Q Value -0.132 - Time Delta 53.963 - Time 2023-05-02T23:01:39\n",
      "Episode 180 - Step 166624 - Epsilon 0.959199683517768 - Mean Reward -20.32 - Mean Length 924.79 - Mean Loss 0.011 - Mean Q Value -0.147 - Time Delta 55.967 - Time 2023-05-02T23:02:35\n",
      "Episode 200 - Step 185413 - Epsilon 0.9547046476603771 - Mean Reward -20.32 - Mean Length 932.34 - Mean Loss 0.011 - Mean Q Value -0.16 - Time Delta 56.067 - Time 2023-05-02T23:03:31\n",
      "Episode 220 - Step 203936 - Epsilon 0.9502938690497895 - Mean Reward -20.36 - Mean Length 929.47 - Mean Loss 0.011 - Mean Q Value -0.169 - Time Delta 55.263 - Time 2023-05-02T23:04:27\n",
      "Episode 240 - Step 221539 - Epsilon 0.946121051281716 - Mean Reward -20.36 - Mean Length 918.14 - Mean Loss 0.011 - Mean Q Value -0.176 - Time Delta 52.967 - Time 2023-05-02T23:05:20\n",
      "Episode 260 - Step 239958 - Epsilon 0.9417744150937877 - Mean Reward -20.42 - Mean Length 921.25 - Mean Loss 0.011 - Mean Q Value -0.182 - Time Delta 55.09 - Time 2023-05-02T23:06:15\n",
      "Episode 280 - Step 258461 - Epsilon 0.9374280618710928 - Mean Reward -20.47 - Mean Length 918.37 - Mean Loss 0.011 - Mean Q Value -0.187 - Time Delta 55.487 - Time 2023-05-02T23:07:10\n",
      "Episode 300 - Step 276315 - Epsilon 0.9332531754286006 - Mean Reward -20.44 - Mean Length 909.02 - Mean Loss 0.011 - Mean Q Value -0.192 - Time Delta 53.361 - Time 2023-05-02T23:08:04\n",
      "Episode 320 - Step 294760 - Epsilon 0.9289596181272078 - Mean Reward -20.43 - Mean Length 908.24 - Mean Loss 0.011 - Mean Q Value -0.196 - Time Delta 55.339 - Time 2023-05-02T23:08:59\n",
      "Episode 340 - Step 313735 - Epsilon 0.9245633011471457 - Mean Reward -20.44 - Mean Length 921.96 - Mean Loss 0.011 - Mean Q Value -0.2 - Time Delta 57.108 - Time 2023-05-02T23:09:56\n",
      "Episode 360 - Step 332316 - Epsilon 0.9202784327837001 - Mean Reward -20.39 - Mean Length 923.58 - Mean Loss 0.011 - Mean Q Value -0.203 - Time Delta 56.018 - Time 2023-05-02T23:10:52\n",
      "Episode 380 - Step 350600 - Epsilon 0.916081439079017 - Mean Reward -20.34 - Mean Length 921.39 - Mean Loss 0.011 - Mean Q Value -0.201 - Time Delta 54.943 - Time 2023-05-02T23:11:47\n",
      "Episode 400 - Step 367452 - Epsilon 0.9122301060238671 - Mean Reward -20.44 - Mean Length 911.37 - Mean Loss 0.011 - Mean Q Value -0.199 - Time Delta 50.533 - Time 2023-05-02T23:12:38\n",
      "Episode 420 - Step 385562 - Epsilon 0.9081093191734873 - Mean Reward -20.45 - Mean Length 908.02 - Mean Loss 0.011 - Mean Q Value -0.197 - Time Delta 55.123 - Time 2023-05-02T23:13:33\n",
      "Episode 440 - Step 403993 - Epsilon 0.9039346033453143 - Mean Reward -20.43 - Mean Length 902.58 - Mean Loss 0.012 - Mean Q Value -0.195 - Time Delta 55.403 - Time 2023-05-02T23:14:28\n",
      "Episode 460 - Step 422822 - Epsilon 0.899689555741213 - Mean Reward -20.37 - Mean Length 905.06 - Mean Loss 0.012 - Mean Q Value -0.193 - Time Delta 57.213 - Time 2023-05-02T23:15:25\n",
      "Episode 480 - Step 440946 - Epsilon 0.8956222832194877 - Mean Reward -20.4 - Mean Length 903.46 - Mean Loss 0.012 - Mean Q Value -0.194 - Time Delta 55.363 - Time 2023-05-02T23:16:21\n",
      "Episode 500 - Step 459321 - Epsilon 0.8915174533419172 - Mean Reward -20.29 - Mean Length 918.69 - Mean Loss 0.011 - Mean Q Value -0.196 - Time Delta 55.57 - Time 2023-05-02T23:17:16\n",
      "Episode 520 - Step 477770 - Epsilon 0.8874150194522524 - Mean Reward -20.26 - Mean Length 922.08 - Mean Loss 0.011 - Mean Q Value -0.198 - Time Delta 55.91 - Time 2023-05-02T23:18:12\n",
      "Episode 540 - Step 495797 - Epsilon 0.8834246598445148 - Mean Reward -20.27 - Mean Length 918.04 - Mean Loss 0.011 - Mean Q Value -0.201 - Time Delta 54.565 - Time 2023-05-02T23:19:07\n",
      "Network saved to checkpoints/2023-05-02T22-54-49/net_1.chkpt at step 500000\n",
      "Episode 560 - Step 513891 - Epsilon 0.8794375126257342 - Mean Reward -20.35 - Mean Length 910.69 - Mean Loss 0.011 - Mean Q Value -0.205 - Time Delta 54.901 - Time 2023-05-02T23:20:02\n",
      "Episode 580 - Step 532820 - Epsilon 0.8752856255689853 - Mean Reward -20.26 - Mean Length 918.74 - Mean Loss 0.011 - Mean Q Value -0.209 - Time Delta 57.918 - Time 2023-05-02T23:21:00\n",
      "Episode 600 - Step 550076 - Epsilon 0.8715177760037762 - Mean Reward -20.36 - Mean Length 907.55 - Mean Loss 0.011 - Mean Q Value -0.213 - Time Delta 52.937 - Time 2023-05-02T23:21:52\n",
      "Episode 620 - Step 567996 - Epsilon 0.8676221086901942 - Mean Reward -20.41 - Mean Length 902.26 - Mean Loss 0.011 - Mean Q Value -0.217 - Time Delta 54.785 - Time 2023-05-02T23:22:47\n",
      "Episode 640 - Step 586194 - Epsilon 0.8636838268134391 - Mean Reward -20.39 - Mean Length 903.97 - Mean Loss 0.012 - Mean Q Value -0.222 - Time Delta 55.533 - Time 2023-05-02T23:23:43\n",
      "Episode 660 - Step 604206 - Epsilon 0.8598034013904885 - Mean Reward -20.41 - Mean Length 903.15 - Mean Loss 0.011 - Mean Q Value -0.224 - Time Delta 55.777 - Time 2023-05-02T23:24:39\n",
      "Episode 680 - Step 622318 - Epsilon 0.855919011997219 - Mean Reward -20.51 - Mean Length 894.98 - Mean Loss 0.012 - Mean Q Value -0.226 - Time Delta 55.665 - Time 2023-05-02T23:25:34\n",
      "Episode 700 - Step 640198 - Epsilon 0.8521015918262526 - Mean Reward -20.48 - Mean Length 901.22 - Mean Loss 0.011 - Mean Q Value -0.228 - Time Delta 55.189 - Time 2023-05-02T23:26:29\n",
      "Episode 720 - Step 658002 - Epsilon 0.8483173153224824 - Mean Reward -20.51 - Mean Length 900.06 - Mean Loss 0.011 - Mean Q Value -0.229 - Time Delta 54.037 - Time 2023-05-02T23:27:23\n",
      "Episode 740 - Step 676426 - Epsilon 0.8444189501074134 - Mean Reward -20.47 - Mean Length 902.32 - Mean Loss 0.011 - Mean Q Value -0.228 - Time Delta 56.794 - Time 2023-05-02T23:28:20\n",
      "Episode 760 - Step 694833 - Epsilon 0.8405420717724689 - Mean Reward -20.44 - Mean Length 906.27 - Mean Loss 0.011 - Mean Q Value -0.227 - Time Delta 57.161 - Time 2023-05-02T23:29:17\n",
      "Episode 780 - Step 712990 - Epsilon 0.8367352872067145 - Mean Reward -20.42 - Mean Length 906.72 - Mean Loss 0.011 - Mean Q Value -0.226 - Time Delta 56.221 - Time 2023-05-02T23:30:14\n",
      "Episode 800 - Step 731140 - Epsilon 0.8329472010867428 - Mean Reward -20.38 - Mean Length 909.42 - Mean Loss 0.012 - Mean Q Value -0.223 - Time Delta 56.103 - Time 2023-05-02T23:31:10\n",
      "Episode 820 - Step 749412 - Epsilon 0.8291509749787498 - Mean Reward -20.35 - Mean Length 914.1 - Mean Loss 0.012 - Mean Q Value -0.22 - Time Delta 56.886 - Time 2023-05-02T23:32:07\n",
      "Episode 840 - Step 767769 - Epsilon 0.8253545115148937 - Mean Reward -20.39 - Mean Length 913.43 - Mean Loss 0.011 - Mean Q Value -0.218 - Time Delta 57.104 - Time 2023-05-02T23:33:04\n",
      "Episode 860 - Step 785906 - Epsilon 0.8216206189521942 - Mean Reward -20.42 - Mean Length 910.73 - Mean Loss 0.011 - Mean Q Value -0.215 - Time Delta 56.573 - Time 2023-05-02T23:34:00\n",
      "Episode 880 - Step 804277 - Epsilon 0.8178557725004031 - Mean Reward -20.39 - Mean Length 912.87 - Mean Loss 0.011 - Mean Q Value -0.214 - Time Delta 58.731 - Time 2023-05-02T23:34:59\n"
     ]
    },
    {
     "name": "stdout",
     "output_type": "stream",
     "text": [
      "Episode 900 - Step 822192 - Epsilon 0.814200991037531 - Mean Reward -20.37 - Mean Length 910.52 - Mean Loss 0.011 - Mean Q Value -0.212 - Time Delta 75.426 - Time 2023-05-02T23:36:14\n",
      "Episode 920 - Step 840350 - Epsilon 0.8105133016429487 - Mean Reward -20.37 - Mean Length 909.38 - Mean Loss 0.011 - Mean Q Value -0.211 - Time Delta 69.035 - Time 2023-05-02T23:37:24\n",
      "Episode 940 - Step 857493 - Epsilon 0.8070470768187202 - Mean Reward -20.42 - Mean Length 897.24 - Mean Loss 0.011 - Mean Q Value -0.21 - Time Delta 50.608 - Time 2023-05-02T23:38:14\n",
      "Episode 960 - Step 875824 - Epsilon 0.8033570430747822 - Mean Reward -20.34 - Mean Length 899.18 - Mean Loss 0.012 - Mean Q Value -0.209 - Time Delta 59.497 - Time 2023-05-02T23:39:14\n",
      "Episode 980 - Step 893145 - Epsilon 0.7998858268457452 - Mean Reward -20.44 - Mean Length 888.68 - Mean Loss 0.012 - Mean Q Value -0.209 - Time Delta 55.327 - Time 2023-05-02T23:40:09\n",
      "Episode 1000 - Step 910758 - Epsilon 0.7963714721083472 - Mean Reward -20.49 - Mean Length 885.66 - Mean Loss 0.012 - Mean Q Value -0.212 - Time Delta 56.882 - Time 2023-05-02T23:41:06\n",
      "Episode 1020 - Step 928504 - Epsilon 0.792846195358532 - Mean Reward -20.55 - Mean Length 881.54 - Mean Loss 0.012 - Mean Q Value -0.215 - Time Delta 57.823 - Time 2023-05-02T23:42:04\n",
      "Episode 1040 - Step 946210 - Epsilon 0.7893444172647179 - Mean Reward -20.51 - Mean Length 887.17 - Mean Loss 0.012 - Mean Q Value -0.218 - Time Delta 57.965 - Time 2023-05-02T23:43:02\n",
      "Episode 1060 - Step 963640 - Epsilon 0.7859123316242312 - Mean Reward -20.59 - Mean Length 878.16 - Mean Loss 0.012 - Mean Q Value -0.22 - Time Delta 84.946 - Time 2023-05-02T23:44:27\n",
      "Episode 1080 - Step 982172 - Epsilon 0.782279621009269 - Mean Reward -20.51 - Mean Length 890.27 - Mean Loss 0.012 - Mean Q Value -0.223 - Time Delta 55.822 - Time 2023-05-02T23:45:22\n",
      "Episode 1100 - Step 999297 - Epsilon 0.7789376449856494 - Mean Reward -20.53 - Mean Length 885.39 - Mean Loss 0.012 - Mean Q Value -0.224 - Time Delta 54.191 - Time 2023-05-02T23:46:17\n",
      "Network saved to checkpoints/2023-05-02T22-54-49/net_2.chkpt at step 1000000\n",
      "Episode 1120 - Step 1017120 - Epsilon 0.7754746140701344 - Mean Reward -20.52 - Mean Length 886.16 - Mean Loss 0.012 - Mean Q Value -0.225 - Time Delta 58.317 - Time 2023-05-02T23:47:15\n",
      "Episode 1140 - Step 1034947 - Epsilon 0.77202620720386 - Mean Reward -20.54 - Mean Length 887.37 - Mean Loss 0.012 - Mean Q Value -0.225 - Time Delta 83.43 - Time 2023-05-02T23:48:38\n",
      "Episode 1160 - Step 1052904 - Epsilon 0.7685681559563247 - Mean Reward -20.52 - Mean Length 892.64 - Mean Loss 0.012 - Mean Q Value -0.224 - Time Delta 53.704 - Time 2023-05-02T23:49:32\n",
      "Episode 1180 - Step 1070315 - Epsilon 0.7652300407586596 - Mean Reward -20.55 - Mean Length 881.43 - Mean Loss 0.012 - Mean Q Value -0.223 - Time Delta 56.074 - Time 2023-05-02T23:50:28\n",
      "Episode 1200 - Step 1087708 - Epsilon 0.7619098525539293 - Mean Reward -20.53 - Mean Length 884.11 - Mean Loss 0.012 - Mean Q Value -0.222 - Time Delta 76.601 - Time 2023-05-02T23:51:45\n",
      "Episode 1220 - Step 1105847 - Epsilon 0.758462603532347 - Mean Reward -20.49 - Mean Length 887.27 - Mean Loss 0.012 - Mean Q Value -0.22 - Time Delta 62.72 - Time 2023-05-02T23:52:47\n",
      "Episode 1240 - Step 1123736 - Epsilon 0.7550781424492649 - Mean Reward -20.49 - Mean Length 887.89 - Mean Loss 0.012 - Mean Q Value -0.22 - Time Delta 55.965 - Time 2023-05-02T23:53:43\n",
      "Episode 1260 - Step 1141964 - Epsilon 0.7516450791003298 - Mean Reward -20.49 - Mean Length 890.6 - Mean Loss 0.012 - Mean Q Value -0.221 - Time Delta 80.389 - Time 2023-05-02T23:55:04\n",
      "Episode 1280 - Step 1159495 - Epsilon 0.748358014671003 - Mean Reward -20.47 - Mean Length 891.8 - Mean Loss 0.012 - Mean Q Value -0.223 - Time Delta 53.395 - Time 2023-05-02T23:55:57\n",
      "Episode 1300 - Step 1177263 - Epsilon 0.7450411800981555 - Mean Reward -20.44 - Mean Length 895.55 - Mean Loss 0.012 - Mean Q Value -0.224 - Time Delta 57.0 - Time 2023-05-02T23:56:54\n",
      "Episode 1320 - Step 1195141 - Epsilon 0.7417186486860153 - Mean Reward -20.46 - Mean Length 892.94 - Mean Loss 0.012 - Mean Q Value -0.224 - Time Delta 80.402 - Time 2023-05-02T23:58:15\n",
      "Episode 1340 - Step 1213646 - Epsilon 0.7382951973358045 - Mean Reward -20.44 - Mean Length 899.1 - Mean Loss 0.012 - Mean Q Value -0.224 - Time Delta 56.463 - Time 2023-05-02T23:59:11\n",
      "Episode 1360 - Step 1231308 - Epsilon 0.7350424410424408 - Mean Reward -20.45 - Mean Length 893.44 - Mean Loss 0.012 - Mean Q Value -0.223 - Time Delta 57.34 - Time 2023-05-03T00:00:08\n",
      "Episode 1380 - Step 1249005 - Epsilon 0.7317976123760674 - Mean Reward -20.45 - Mean Length 895.1 - Mean Loss 0.012 - Mean Q Value -0.222 - Time Delta 59.002 - Time 2023-05-03T00:01:07\n",
      "Episode 1400 - Step 1267239 - Epsilon 0.7284693043531016 - Mean Reward -20.44 - Mean Length 899.76 - Mean Loss 0.012 - Mean Q Value -0.22 - Time Delta 83.507 - Time 2023-05-03T00:02:31\n",
      "Episode 1420 - Step 1284725 - Epsilon 0.725291750789445 - Mean Reward -20.44 - Mean Length 895.84 - Mean Loss 0.012 - Mean Q Value -0.219 - Time Delta 52.872 - Time 2023-05-03T00:03:24\n",
      "Episode 1440 - Step 1302567 - Epsilon 0.7220637910403087 - Mean Reward -20.45 - Mean Length 889.21 - Mean Loss 0.012 - Mean Q Value -0.218 - Time Delta 81.974 - Time 2023-05-03T00:04:46\n",
      "Episode 1460 - Step 1320011 - Epsilon 0.7189217267053898 - Mean Reward -20.52 - Mean Length 887.03 - Mean Loss 0.012 - Mean Q Value -0.218 - Time Delta 53.083 - Time 2023-05-03T00:05:39\n",
      "Episode 1480 - Step 1338248 - Epsilon 0.7156514430988175 - Mean Reward -20.48 - Mean Length 892.43 - Mean Loss 0.012 - Mean Q Value -0.217 - Time Delta 59.492 - Time 2023-05-03T00:06:38\n"
     ]
    },
    {
     "data": {
      "text/plain": [
       "<Figure size 640x480 with 0 Axes>"
      ]
     },
     "metadata": {},
     "output_type": "display_data"
    }
   ],
   "source": [
    "episodes = 1500\n",
    "for e in range(episodes):\n",
    "    state = env.reset()\n",
    "    while True:\n",
    "        action = model.act(state)\n",
    "        next_state, reward, done, trunc, info = env.step(action)\n",
    "        model.cache(state, next_state, action, reward, done)\n",
    "        q, loss = model.learn()\n",
    "\n",
    "        # Logging\n",
    "        logger.log_step(reward, loss, q)\n",
    "\n",
    "        # Update state\n",
    "        state = next_state\n",
    "\n",
    "        # Check if end of game\n",
    "        if done: #or info[\"flag_get\"]:\n",
    "            break\n",
    "\n",
    "    logger.log_episode()\n",
    "\n",
    "    if e % 20 == 0:\n",
    "        logger.record(episode=e, epsilon=model.exploration_rate, step=model.curr_step)"
   ]
  },
  {
   "cell_type": "code",
   "execution_count": 10,
   "id": "5cf507c0",
   "metadata": {},
   "outputs": [
    {
     "name": "stdout",
     "output_type": "stream",
     "text": [
      "LukeJuusola change made in gymnasium.wrappers.gray_scale_observation.py:\n"
     ]
    }
   ],
   "source": [
    "\n",
    "render_env = gym.make(\"ALE/Pong-v5\", render_mode='human', apply_api_compatibility=False)\n",
    "render_env = GrayScaleObservation(render_env)\n",
    "render_env = ResizeObservation(render_env, shape=84)\n",
    "render_env = FrameStack(render_env, num_stack=skip_frames)\n",
    "render_env.reset()\n",
    "\n",
    "state = render_env.reset()\n",
    "total_reward = 0\n",
    "while True:\n",
    "    action = model.act(state)\n",
    "    next_state, reward, done, trunc, info = render_env.step(action)\n",
    "    state = next_state\n",
    "    # Check if end of game\n",
    "    if done: #or info[\"flag_get\"]:\n",
    "        break\n",
    "\n",
    "render_env.close()"
   ]
  },
  {
   "cell_type": "code",
   "execution_count": null,
   "id": "f0c643ad",
   "metadata": {},
   "outputs": [],
   "source": []
  }
 ],
 "metadata": {
  "kernelspec": {
   "display_name": "RLVenv",
   "language": "python",
   "name": "rlvenv"
  },
  "language_info": {
   "codemirror_mode": {
    "name": "ipython",
    "version": 3
   },
   "file_extension": ".py",
   "mimetype": "text/x-python",
   "name": "python",
   "nbconvert_exporter": "python",
   "pygments_lexer": "ipython3",
   "version": "3.11.2"
  }
 },
 "nbformat": 4,
 "nbformat_minor": 5
}
