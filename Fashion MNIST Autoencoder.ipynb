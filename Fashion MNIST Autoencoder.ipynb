{
 "cells": [
  {
   "cell_type": "code",
   "execution_count": 1,
   "id": "aff62d52",
   "metadata": {},
   "outputs": [
    {
     "name": "stdout",
     "output_type": "stream",
     "text": [
      "DEVICE='cuda'\n"
     ]
    }
   ],
   "source": [
    "# https://github.com/dariocazzani/pytorch-AE\n",
    "# See tutorial on VAEs \n",
    "\n",
    "import os \n",
    "import sys\n",
    "\n",
    "import functools\n",
    "import itertools\n",
    "from collections import defaultdict, namedtuple\n",
    "from typing import List, Tuple, Union\n",
    "\n",
    "import numpy as np\n",
    "\n",
    "import torch\n",
    "import torch.nn as nn\n",
    "from torch.utils.data import Dataset, DataLoader\n",
    "from torchvision import datasets\n",
    "import torchvision.transforms as transforms\n",
    "import matplotlib.pyplot as plt\n",
    "\n",
    "DEVICE = \"cuda\" if torch.cuda.is_available() else \"cpu\"\n",
    "print(f\"{DEVICE=}\")\n",
    "\n",
    "BATCH_SIZE = 32\n",
    "TEST_FRAC = .2"
   ]
  },
  {
   "cell_type": "code",
   "execution_count": 2,
   "id": "5b798118",
   "metadata": {},
   "outputs": [],
   "source": [
    "class ChannelTransform(nn.Module):\n",
    "    def __init__(self, max_channels: int, duplicate_single_channel: bool = True):\n",
    "        super().__init__()\n",
    "        self.channels = max_channels\n",
    "        self.duplicate = duplicate_single_channel\n",
    "        \n",
    "    def forward(self, x):\n",
    "        channels_to_add = self.channels - x.shape[0]\n",
    "        if channels_to_add > 0:\n",
    "            if self.duplicate:\n",
    "                if x.shape[0] == 1: \n",
    "                    return torch.concat([x] * self.channels)\n",
    "                else: \n",
    "                    raise ValueError(f\"Input with shape {x.shape} does not have single channel to duplicate\")\n",
    "            else: \n",
    "                return torch.concat([x] + [torch.zeros(x.shape)] * channels_to_add)\n",
    "        else: \n",
    "            return x"
   ]
  },
  {
   "cell_type": "code",
   "execution_count": 3,
   "id": "763dac96",
   "metadata": {},
   "outputs": [
    {
     "data": {
      "text/plain": [
       "torch.Size([3, 3, 3])"
      ]
     },
     "execution_count": 3,
     "metadata": {},
     "output_type": "execute_result"
    }
   ],
   "source": [
    "tensor = transforms.ToTensor()(np.eye(3))\n",
    "add_channels = ChannelTransform(3)\n",
    "add_channels(tensor).shape"
   ]
  },
  {
   "cell_type": "code",
   "execution_count": 4,
   "id": "b5886776",
   "metadata": {},
   "outputs": [],
   "source": [
    "# Import data\n",
    "\n",
    "# MNIST, FashionMNIST\n",
    "train_data = datasets.FashionMNIST(\n",
    "    root=\"data\",\n",
    "    train=True,\n",
    "    download=True,\n",
    "    transform=transforms.ToTensor()\n",
    ")\n",
    "\n",
    "test_data = datasets.FashionMNIST(\n",
    "    root=\"data\",\n",
    "    train=False,\n",
    "    download=True,\n",
    "    transform=transforms.ToTensor(),\n",
    ")\n",
    "data_dim = train_data[0][0].shape\n",
    "\n",
    "train_dataloader = DataLoader(train_data, batch_size = BATCH_SIZE, shuffle = True)\n",
    "test_dataloader = DataLoader(test_data, batch_size = BATCH_SIZE, shuffle = True)\n",
    "\n",
    "# img_transform = torch.nn.Sequential(\n",
    "# #     transforms.CenterCrop(10),\n",
    "# #     transforms.Normalize((0.485, 0.456, 0.406), (0.229, 0.224, 0.225)),\n",
    "# )\n",
    "# img_transform = transforms.Compose([\n",
    "#     transforms.Resize(size = (1000, 1000)), \n",
    "#     transforms.ToTensor(),\n",
    "#     ChannelTransform(max_channels = 3, duplicate_single_channel = True)\n",
    "# ])\n",
    "# data = datasets.Caltech101(\n",
    "#     root=\"data\",\n",
    "#     download=True,\n",
    "#     transform=img_transform\n",
    "# )\n",
    "# n_data = len(data)\n",
    "# n_test = int(n_data * TEST_FRAC)\n",
    "# n_train = n_data - n_test\n",
    "# train_data, test_data = torch.utils.data.random_split(data, [n_train, n_test])\n",
    "\n",
    "# train_dataloader = DataLoader(train_data, batch_size = BATCH_SIZE, shuffle = True)\n",
    "# test_dataloader = DataLoader(test_data, batch_size = BATCH_SIZE, shuffle = True)\n",
    "# # Need to preprocess so all the same size image. "
   ]
  },
  {
   "cell_type": "code",
   "execution_count": 5,
   "id": "a76b03f2",
   "metadata": {
    "scrolled": false
   },
   "outputs": [
    {
     "data": {
      "image/png": "[encoded data removed]",
      "text/plain": [
       "<Figure size 800x800 with 9 Axes>"
      ]
     },
     "metadata": {},
     "output_type": "display_data"
    },
    {
     "data": {
      "text/plain": [
       "torch.Size([1, 28, 28])"
      ]
     },
     "execution_count": 5,
     "metadata": {},
     "output_type": "execute_result"
    }
   ],
   "source": [
    "# Inspect some data\n",
    "\n",
    "# Fashion MNIST Labels\n",
    "labels_map = {\n",
    "    0: \"T-Shirt\",\n",
    "    1: \"Trouser\",\n",
    "    2: \"Pullover\",\n",
    "    3: \"Dress\",\n",
    "    4: \"Coat\",\n",
    "    5: \"Sandal\",\n",
    "    6: \"Shirt\",\n",
    "    7: \"Sneaker\",\n",
    "    8: \"Bag\",\n",
    "    9: \"Ankle Boot\",\n",
    "}\n",
    "\n",
    "figure = plt.figure(figsize=(8, 8))\n",
    "cols, rows = 3, 3\n",
    "for i in range(1, cols * rows + 1):\n",
    "    sample_idx = torch.randint(len(train_data), size=(1,)).item()\n",
    "    img, label = train_data[sample_idx]\n",
    "    figure.add_subplot(rows, cols, i)\n",
    "    plt.axis(\"off\")\n",
    "    \n",
    "    # RGB channels\n",
    "    plt.title(label)\n",
    "    plt.imshow(img.permute(1, 2, 0).squeeze())\n",
    "    \n",
    "    # Single Grayscale channel\n",
    "#     plt.title(labels_map[label])\n",
    "#     plt.imshow(img.squeeze(), cmap = \"gray\")\n",
    "\n",
    "plt.show()\n",
    "\n",
    "img.shape"
   ]
  },
  {
   "cell_type": "code",
   "execution_count": 6,
   "id": "05ddace4",
   "metadata": {},
   "outputs": [],
   "source": [
    "# channels = []\n",
    "# xs = []\n",
    "# ys = []\n",
    "# for img, _ in test_data: \n",
    "#     channel, x, y = img.shape\n",
    "#     channels.append(channel)\n",
    "#     xs.append(x)\n",
    "#     ys.append(y)\n",
    "    \n",
    "# fig, axs = plt.subplots(ncols = 3)\n",
    "# axs[0].hist(channels)\n",
    "# axs[1].hist(xs)\n",
    "# axs[2].hist(ys)\n",
    "# fig.show()"
   ]
  },
  {
   "cell_type": "code",
   "execution_count": 7,
   "id": "3e6f2141",
   "metadata": {},
   "outputs": [],
   "source": [
    "class EncoderDecoder(nn.Module):\n",
    "    def __init__(self): \n",
    "        super().__init__()\n",
    "    \n",
    "    def layer_inverse(self, layer: nn.Module) -> nn.Module: \n",
    "        if type(layer) is nn.Conv2d:\n",
    "            new_layer = nn.ConvTranspose2d(layer.out_channels, layer.in_channels, layer.kernel_size,\n",
    "                                           stride=layer.stride, output_padding=layer.padding)\n",
    "        elif type(layer) == nn.ReLU: \n",
    "            new_layer = layer\n",
    "        elif type(layer) is nn.Linear: \n",
    "            new_layer = nn.Linear(layer.out_features, layer.in_features, bias = layer.bias is not None)\n",
    "        else: \n",
    "            raise ValueError(f\"Layer type {type(layer)} inverse not supported\")\n",
    "        return new_layer\n",
    "\n",
    "class ConvolutionalEncoder(EncoderDecoder):\n",
    "    def __init__(self, in_channels, latent_variables, conv_layers = None, connected_layers = None):\n",
    "        super().__init__()\n",
    "        self.in_channels = in_channels\n",
    "        self.latent_vars = latent_variables\n",
    "        if conv_layers is None: \n",
    "            self.convolutions = nn.Sequential(\n",
    "                nn.Conv2d(in_channels, 8, 3, stride=2, padding=1),\n",
    "                nn.ReLU(True),\n",
    "                nn.Conv2d(8, 16, 3, stride=2, padding=1),\n",
    "                nn.BatchNorm2d(16),\n",
    "                nn.ReLU(True),\n",
    "                nn.Conv2d(16, 32, 3, stride=2, padding=0),\n",
    "                nn.ReLU(True)\n",
    "            )\n",
    "        else: \n",
    "            self.convolutions = nn.Sequential(*conv_layers)\n",
    "        self.post_conv_size = (32, 3, 3)\n",
    "#         self.post_conv_size = (32, 124, 124)\n",
    "        self.flatten = nn.Flatten()\n",
    "        \n",
    "        # this 32 value is going to be problematic\n",
    "        if connected_layers is None: \n",
    "            self.connected = nn.Sequential(\n",
    "#                 nn.Linear(3 * 3 * 32, 128),\n",
    "                nn.Linear(functools.reduce(lambda a, b: a * b, self.post_conv_size), 128),\n",
    "                nn.ReLU(True),\n",
    "                nn.Linear(128, latent_variables)\n",
    "            )\n",
    "        else: \n",
    "            self.connected = nn.Sequential(*connected_layers)\n",
    "        \n",
    "        \n",
    "    def forward(self, x):\n",
    "        x = self.convolutions(x)\n",
    "        x = self.flatten(x)\n",
    "        x = self.connected(x)\n",
    "        #x = torch.sigmoid(x)\n",
    "        return x\n",
    "\n",
    "    def to_decoder(self) -> nn.Module:\n",
    "        deconv_layers = []\n",
    "        for conv in reversed(self.convolutions):\n",
    "            deconv = self.layer_inverse(conv)\n",
    "            if len(deconv_layers) != 0 or type(deconv) is not nn.ReLU:\n",
    "                deconv_layers.append(deconv)\n",
    "        connected_layers = []\n",
    "        for layer in reversed(self.connected):\n",
    "            new_layer = self.layer_inverse(layer)\n",
    "            if len(connected_layers) != 0 or type(new_layer) is not nn.ReLU:\n",
    "                connected_layers.append(new_layer)\n",
    "\n",
    "        return ConvolutionalDecoder(out_channels = in_channels, latent_variables = self.latent_vars, \n",
    "                                    deconv_layers = deconv_layers, connected_layers = connected_layers)\n",
    "\n",
    "            \n",
    "            \n",
    "            \n",
    "            \n",
    "class ConvolutionalDecoder(EncoderDecoder):\n",
    "    def __init__(self, out_channels, latent_variables, deconv_layers = None, connected_layers = None):\n",
    "        super().__init__()\n",
    "        self.out_channels = out_channels\n",
    "        self.latent_vars = latent_variables\n",
    "        if deconv_layers is None: \n",
    "            self.deconvolutions = nn.Sequential(\n",
    "                nn.ConvTranspose2d(32, 16, 3, stride=2, output_padding=0),\n",
    "                nn.BatchNorm2d(16),\n",
    "                nn.ReLU(True),\n",
    "                nn.ConvTranspose2d(16, 8, 3, stride=2, padding=1, output_padding=1),\n",
    "                nn.BatchNorm2d(8),\n",
    "                nn.ReLU(True),\n",
    "#                 nn.ConvTranspose2d(8, out_channels, 3, stride=2, padding=0, output_padding=0)\n",
    "                nn.ConvTranspose2d(8, out_channels, 3, stride=2, padding=1, output_padding=1)\n",
    "            )\n",
    "        else: \n",
    "            self.deconvolutions = nn.Sequential(*deconv_layers)\n",
    "            \n",
    "        # This does not (by definiton) reconstruct the original size tensor \n",
    "            \n",
    "            \n",
    "        self.post_conv_size = (32, 3, 3)\n",
    "#         self.post_conv_size = (32, 124, 124)\n",
    "\n",
    "        if connected_layers is None: \n",
    "            self.connected = nn.Sequential(\n",
    "                nn.Linear(latent_variables, 128),\n",
    "                nn.ReLU(True),\n",
    "                nn.Linear(128, functools.reduce(lambda a, b: a * b, self.post_conv_size)),\n",
    "#                 nn.ReLU(True)\n",
    "            )\n",
    "        else: \n",
    "            self.connected = nn.Sequential(*connected_layers)\n",
    "\n",
    "        self.unflatten = nn.Unflatten(dim = 1, unflattened_size=self.post_conv_size)\n",
    "\n",
    "        \n",
    "        \n",
    "    def forward(self, x):\n",
    "        x = self.connected(x)\n",
    "        x = self.unflatten(x)\n",
    "        x = self.deconvolutions(x)\n",
    "        return x\n",
    "\n",
    "    def to_encoder(self) -> nn.Module:\n",
    "        return None\n",
    "\n",
    "    \n",
    "class ConvolutionalAutoencoder(nn.Module):\n",
    "    def __init__(self, channels, latent_variables):\n",
    "        super().__init__()\n",
    "        self.encoder = ConvolutionalEncoder(channels, latent_variables)\n",
    "        self.decoder = ConvolutionalDecoder(channels, latent_variables)\n",
    "        \n",
    "    def forward(self, x):\n",
    "        x = self.encoder(x)\n",
    "        x = self.decoder(x)\n",
    "        return x"
   ]
  },
  {
   "cell_type": "code",
   "execution_count": 8,
   "id": "9c82c7e5",
   "metadata": {},
   "outputs": [],
   "source": [
    "# Model Definition\n",
    "NamedModel = namedtuple(\"NamedModel\", [\"name\", \"model\"])\n",
    "LR = .00025\n",
    "models = []\n",
    "optimizers = []\n",
    "for latent in [5]:\n",
    "    model = ConvolutionalAutoencoder(channels = data_dim[0], latent_variables = latent).to(DEVICE)\n",
    "    models.append(NamedModel(f\"Latent{latent}\", model))\n",
    "    optimizers.append(torch.optim.Adam(model.parameters(), lr=LR))\n",
    "model_optims = dict(zip(models, optimizers))\n",
    "\n",
    "\n",
    "epoch_losses = defaultdict(lambda: [])"
   ]
  },
  {
   "cell_type": "code",
   "execution_count": 9,
   "id": "91d04720",
   "metadata": {},
   "outputs": [
    {
     "name": "stdout",
     "output_type": "stream",
     "text": [
      "Training Latent5\n",
      "Epoch 9 (Final) Loss: 0.01972595416009426\n"
     ]
    },
    {
     "data": {
      "image/png": "[encoded data removed]",
      "text/plain": [
       "<Figure size 640x480 with 1 Axes>"
      ]
     },
     "metadata": {},
     "output_type": "display_data"
    }
   ],
   "source": [
    "# Training Loop\n",
    "loss_fn = nn.MSELoss()\n",
    "epochs = 10\n",
    "for namedmodel, optimizer in model_optims.items():\n",
    "    name = namedmodel.name\n",
    "    autoencoder = namedmodel.model \n",
    "    print(f\"Training {name}\")\n",
    "    autoencoder.train()\n",
    "    for epoch in range(epochs):\n",
    "        batch_losses = []\n",
    "        for img_batch, img_labels in train_dataloader:\n",
    "            img_batch = img_batch.to(DEVICE)\n",
    "            reconstructed = autoencoder(img_batch)\n",
    "            loss = loss_fn(img_batch, reconstructed)\n",
    "\n",
    "            # Optimize\n",
    "            optimizer.zero_grad()\n",
    "            loss.backward()\n",
    "            optimizer.step()\n",
    "\n",
    "            batch_losses.append(loss.detach().cpu().numpy())\n",
    "        mean_batch_loss = np.array(batch_losses).mean()\n",
    "        epoch_losses[name].append(mean_batch_loss)\n",
    "        if len(epoch_losses[name]) % 100 == 0: \n",
    "            print(f\"Epoch {epoch} Loss: {mean_batch_loss}\")\n",
    "    print(f\"Epoch {epoch} (Final) Loss: {mean_batch_loss}\")\n",
    "        \n",
    "legend = []\n",
    "for name, losses in epoch_losses.items():\n",
    "    legend.append(name)\n",
    "    plt.plot(losses)\n",
    "plt.title(\"Loss\")\n",
    "plt.legend(legend)\n",
    "plt.show()"
   ]
  },
  {
   "cell_type": "code",
   "execution_count": 10,
   "id": "48641901",
   "metadata": {},
   "outputs": [],
   "source": [
    "# autoencoder = ConvolutionalAutoencoder(latent_variables = 2).to(DEVICE)\n",
    "# print(autoencoder)\n",
    "\n",
    "# autoencoder.encoder.to_decoder()\n"
   ]
  },
  {
   "cell_type": "code",
   "execution_count": 11,
   "id": "8bcec147",
   "metadata": {},
   "outputs": [
    {
     "name": "stdout",
     "output_type": "stream",
     "text": [
      "Latent5 test loss: 0.01945517770946026\n"
     ]
    }
   ],
   "source": [
    "loss_fn = nn.MSELoss()\n",
    "for namedmodel, optimizer in model_optims.items():\n",
    "    name = namedmodel.name\n",
    "    autoencoder = namedmodel.model\n",
    "    autoencoder.eval()\n",
    "    batch_losses = []\n",
    "    for img_batch, img_labels in test_dataloader:\n",
    "        img_batch = img_batch.to(DEVICE)\n",
    "        reconstructed = autoencoder(img_batch)\n",
    "        loss = loss_fn(img_batch, reconstructed)\n",
    "        batch_losses.append(loss.detach().cpu().numpy())\n",
    "    mean_batch_loss = np.array(batch_losses).mean()\n",
    "    print(f\"{name} test loss: {mean_batch_loss}\")"
   ]
  },
  {
   "cell_type": "code",
   "execution_count": 12,
   "id": "44da0bec",
   "metadata": {},
   "outputs": [
    {
     "data": {
      "image/png": "[encoded data removed]",
      "text/plain": [
       "<Figure size 1500x1500 with 10 Axes>"
      ]
     },
     "metadata": {},
     "output_type": "display_data"
    }
   ],
   "source": [
    "cols, rows = 5, len(models) + 1\n",
    "fig, ax = plt.subplots(nrows = rows, ncols = cols)\n",
    "fig.set_figheight(15)\n",
    "fig.set_figwidth(15)\n",
    "modelname_to_num = {namedmodel.name: i for i, namedmodel in enumerate(models)}\n",
    "for i in range(0, cols):\n",
    "    sample_idx = torch.randint(len(test_data), size=(1,)).item()\n",
    "    img, label = test_data[sample_idx]\n",
    "    img = img.to(DEVICE).unsqueeze(0)\n",
    "    modelname_to_img = {namedmodel.name: namedmodel.model(img) for namedmodel in models}\n",
    "    img = img.detach().cpu().numpy()\n",
    "    ax[0][i].imshow(img.squeeze(), cmap = \"gray\")\n",
    "    ax[0][i].axis(\"off\") \n",
    "    if(i == 0): \n",
    "        ax[0][i].title.set_text(\"Base\")\n",
    "    for modelname, reconstructed in modelname_to_img.items():\n",
    "        reconstructed = reconstructed.detach().cpu().numpy()\n",
    "        modelnum = modelname_to_num[modelname]\n",
    "        cur_ax = ax[modelnum + 1][i]\n",
    "        cur_ax.imshow(reconstructed.squeeze(), cmap = \"gray\")\n",
    "        cur_ax.axis(\"off\")\n",
    "        if(i == 0): \n",
    "            cur_ax.title.set_text(modelname)\n",
    "plt.subplots_adjust(wspace=0, hspace=.1)\n",
    "plt.show()"
   ]
  }
 ],
 "metadata": {
  "kernelspec": {
   "display_name": "RLVenv",
   "language": "python",
   "name": "rlvenv"
  },
  "language_info": {
   "codemirror_mode": {
    "name": "ipython",
    "version": 3
   },
   "file_extension": ".py",
   "mimetype": "text/x-python",
   "name": "python",
   "nbconvert_exporter": "python",
   "pygments_lexer": "ipython3",
   "version": "3.11.2"
  }
 },
 "nbformat": 4,
 "nbformat_minor": 5
}
